{
 "cells": [
  {
   "cell_type": "code",
   "execution_count": 1,
   "metadata": {},
   "outputs": [],
   "source": [
    "import pandas as pd\n",
    "import pickle\n",
    "import seaborn as sns\n",
    "import matplotlib.pyplot as plt"
   ]
  },
  {
   "cell_type": "code",
   "execution_count": 2,
   "metadata": {},
   "outputs": [],
   "source": [
    "from sklearn.feature_extraction import DictVectorizer\n",
    "from sklearn.linear_model import LinearRegression\n",
    "from sklearn.metrics import mean_squared_error\n",
    "from sklearn.linear_model import Lasso"
   ]
  },
  {
   "cell_type": "code",
   "execution_count": 3,
   "metadata": {},
   "outputs": [
    {
     "data": {
      "text/plain": [
       "<Experiment: artifact_location='file:///c:/Users/khadk/Desktop/MLOps/training/experimental_tracking/mlruns/1', creation_time=1729173508282, experiment_id='1', last_update_time=1729173508282, lifecycle_stage='active', name='nyc-taxi-experiment', tags={}>"
      ]
     },
     "execution_count": 3,
     "metadata": {},
     "output_type": "execute_result"
    }
   ],
   "source": [
    "import mlflow\n",
    "\n",
    "mlflow.set_tracking_uri('sqlite:///mlflow.db')\n",
    "mlflow.set_experiment('nyc-taxi-experiment')"
   ]
  },
  {
   "cell_type": "code",
   "execution_count": 4,
   "metadata": {},
   "outputs": [],
   "source": [
    "#@ code reconstruction:\n",
    "def read_dataframe(filename):\n",
    "    df=pd.read_parquet(filename)\n",
    "\n",
    "    df['duration']=df.lpep_dropoff_datetime-df.lpep_pickup_datetime\n",
    "    df.duration=df.duration.apply(lambda td: td.total_seconds()/60)\n",
    "\n",
    "    df[((df.duration >= 1) & (df.duration <=60))]\n",
    "    categorical=['PULocationID', 'DOLocationID']\n",
    "\n",
    "    df[categorical]=df[categorical].astype(str)\n",
    "    \n",
    "    return df"
   ]
  },
  {
   "cell_type": "code",
   "execution_count": 5,
   "metadata": {},
   "outputs": [],
   "source": [
    "df_train=read_dataframe('C:/Users/khadk/Desktop/MLOps/Data_set/green_tripdata_2024-01.parquet')\n",
    "df_val=read_dataframe('C:/Users/khadk/Desktop/MLOps/Data_set/green_tripdata_2024-02.parquet')                  "
   ]
  },
  {
   "cell_type": "code",
   "execution_count": 6,
   "metadata": {},
   "outputs": [],
   "source": [
    "df_train['PO_DO']=df_train['PULocationID'] + '_' + df_train['DOLocationID']\n",
    "df_val['PO_DO']=df_val['PULocationID'] + '_' + df_val['DOLocationID']"
   ]
  },
  {
   "cell_type": "code",
   "execution_count": 7,
   "metadata": {},
   "outputs": [],
   "source": [
    "categorical=['PO_DO']#'PULocationID', 'DOLocationID']\n",
    "numerical=['trip_distance']\n",
    "\n",
    "dv=DictVectorizer()\n",
    "\n",
    "train_dicts=df_train[categorical + numerical].to_dict(orient='records')\n",
    "X_train=dv.fit_transform(train_dicts)\n",
    "\n",
    "val_dicts=df_val[categorical + numerical].to_dict(orient='records')\n",
    "X_val=dv.transform(val_dicts)"
   ]
  },
  {
   "cell_type": "code",
   "execution_count": 8,
   "metadata": {},
   "outputs": [],
   "source": [
    "target='duration'\n",
    "y_train=df_train[target].values\n",
    "y_val=df_val[target].values"
   ]
  },
  {
   "cell_type": "code",
   "execution_count": 9,
   "metadata": {},
   "outputs": [
    {
     "data": {
      "text/plain": [
       "78.80821659744552"
      ]
     },
     "execution_count": 9,
     "metadata": {},
     "output_type": "execute_result"
    }
   ],
   "source": [
    "lr=LinearRegression()\n",
    "lr.fit(X_train, y_train)\n",
    "\n",
    "y_pred=lr.predict(X_val)\n",
    "\n",
    "\n",
    "mean_squared_error(y_val, y_pred, squared=False)"
   ]
  },
  {
   "cell_type": "code",
   "execution_count": 10,
   "metadata": {},
   "outputs": [],
   "source": [
    "import os \n",
    "\n",
    "os.makedirs('Models', exist_ok=True)\n",
    "\n",
    "with open('Models/lin_reg.bin', 'wb') as f_out:\n",
    "    pickle.dump((dv, lr),f_out)"
   ]
  },
  {
   "cell_type": "code",
   "execution_count": 14,
   "metadata": {},
   "outputs": [],
   "source": [
    "with mlflow.start_run():\n",
    "    \n",
    "    mlflow.set_tag('developer', 'king')\n",
    "    mlflow.log_param('train-data-path', 'C:/Users/khadk/Desktop/MLOps/Data_set/green_tripdata_2024-01.parquet')\n",
    "    mlflow.log_param('valid-data-path', 'C:/Users/khadk/Desktop/MLOps/Data_set/green_tripdata_2024-02.parquet')\n",
    "    alpha=0.001 \n",
    "    mlflow.log_param('alpha', alpha)\n",
    "    lr=Lasso(alpha)\n",
    "    lr.fit(X_train, y_train)\n",
    "\n",
    "    y_pred=lr.predict(X_val)\n",
    "\n",
    "    from sklearn.metrics import mean_squared_error\n",
    "\n",
    "    rmse=mean_squared_error(y_val, y_pred, squared=False)\n",
    "    mlflow.log_metric('rmse', rmse)\n",
    "\n",
    "    mlflow.log_artifact(local_path='Models/lin_reg.bin', artifact_path='models_pickle' )"
   ]
  },
  {
   "cell_type": "code",
   "execution_count": 19,
   "metadata": {},
   "outputs": [],
   "source": [
    "import  xgboost as xgb\n",
    "\n",
    "from hyperopt import fmin, tpe, hp, STATUS_OK, Trials\n",
    "from hyperopt.pyll import scope"
   ]
  },
  {
   "cell_type": "code",
   "execution_count": 20,
   "metadata": {},
   "outputs": [],
   "source": [
    "train=xgb.DMatrix(X_train, label=y_train)\n",
    "valid=xgb.DMatrix(X_val, label=y_val)"
   ]
  },
  {
   "cell_type": "code",
   "execution_count": 37,
   "metadata": {},
   "outputs": [],
   "source": [
    "def objective(params):\n",
    "    with mlflow.start_run():\n",
    "        mlflow.set_tag(\"model\", \"xgboost\")\n",
    "        mlflow.log_params(params)\n",
    "        booster=xgb.train(\n",
    "            params=params,\n",
    "            dtrain=train,\n",
    "            num_boost_round=1000,\n",
    "            evals=[(valid, 'validation')],\n",
    "            early_stopping_rounds=10\n",
    "        )\n",
    "\n",
    "        y_pred=booster.predict(valid)\n",
    "        rmse=mean_squared_error(y_val, y_pred, squared=False)\n",
    "        mlflow.log_metric(\"rmse\", rmse)\n",
    "\n",
    "    \n",
    "    return {'loss': rmse, 'status': STATUS_OK}"
   ]
  },
  {
   "cell_type": "code",
   "execution_count": 38,
   "metadata": {},
   "outputs": [
    {
     "name": "stdout",
     "output_type": "stream",
     "text": [
      "  0%|          | 0/10 [00:00<?, ?trial/s, best loss=?]"
     ]
    },
    {
     "name": "stderr",
     "output_type": "stream",
     "text": [
      "C:\\Users\\khadk\\AppData\\Roaming\\Python\\Python312\\site-packages\\xgboost\\core.py:160: UserWarning: [20:54:24] WARNING: C:\\buildkite-agent\\builds\\buildkite-windows-cpu-autoscaling-group-i-0b3782d1791676daf-1\\xgboost\\xgboost-ci-windows\\src\\objective\\regression_obj.cu:209: reg:linear is now deprecated in favor of reg:squarederror.\n",
      "  warnings.warn(smsg, UserWarning)\n",
      "\n"
     ]
    },
    {
     "name": "stdout",
     "output_type": "stream",
     "text": [
      "[0]\tvalidation-rmse:77.41365                          \n",
      "[1]\tvalidation-rmse:77.19018                          \n",
      "[2]\tvalidation-rmse:77.05528                          \n",
      "[3]\tvalidation-rmse:76.95915                          \n",
      "[4]\tvalidation-rmse:76.90849                          \n",
      "[5]\tvalidation-rmse:76.89007                          \n",
      "[6]\tvalidation-rmse:76.88785                          \n",
      "[7]\tvalidation-rmse:76.90035                          \n",
      "[8]\tvalidation-rmse:76.92181                          \n",
      "[9]\tvalidation-rmse:76.95216                          \n",
      "[10]\tvalidation-rmse:76.98217                         \n",
      "[11]\tvalidation-rmse:77.01765                         \n",
      "[12]\tvalidation-rmse:77.06101                         \n",
      "[13]\tvalidation-rmse:77.10482                         \n",
      "[14]\tvalidation-rmse:77.13200                         \n",
      "[15]\tvalidation-rmse:77.16096                         \n",
      "[16]\tvalidation-rmse:77.20123                         \n",
      " 10%|█         | 1/10 [00:08<01:20,  8.98s/trial, best loss: 77.20122573862926]"
     ]
    },
    {
     "name": "stderr",
     "output_type": "stream",
     "text": [
      "C:\\Users\\khadk\\AppData\\Roaming\\Python\\Python312\\site-packages\\xgboost\\core.py:160: UserWarning: [20:54:33] WARNING: C:\\buildkite-agent\\builds\\buildkite-windows-cpu-autoscaling-group-i-0b3782d1791676daf-1\\xgboost\\xgboost-ci-windows\\src\\objective\\regression_obj.cu:209: reg:linear is now deprecated in favor of reg:squarederror.\n",
      "  warnings.warn(smsg, UserWarning)\n",
      "\n"
     ]
    },
    {
     "name": "stdout",
     "output_type": "stream",
     "text": [
      "[0]\tvalidation-rmse:77.38260                                                   \n",
      "[1]\tvalidation-rmse:77.38545                                                   \n",
      "[2]\tvalidation-rmse:77.55379                                                   \n",
      "[3]\tvalidation-rmse:77.80297                                                   \n",
      "[4]\tvalidation-rmse:78.04902                                                   \n",
      "[5]\tvalidation-rmse:78.32359                                                   \n",
      "[6]\tvalidation-rmse:78.59441                                                   \n",
      "[7]\tvalidation-rmse:78.76902                                                   \n",
      "[8]\tvalidation-rmse:78.94217                                                   \n",
      "[9]\tvalidation-rmse:79.15886                                                   \n",
      "[10]\tvalidation-rmse:79.34799                                                  \n",
      " 20%|██        | 2/10 [00:22<01:32, 11.59s/trial, best loss: 77.20122573862926]"
     ]
    },
    {
     "name": "stderr",
     "output_type": "stream",
     "text": [
      "C:\\Users\\khadk\\AppData\\Roaming\\Python\\Python312\\site-packages\\xgboost\\core.py:160: UserWarning: [20:54:47] WARNING: C:\\buildkite-agent\\builds\\buildkite-windows-cpu-autoscaling-group-i-0b3782d1791676daf-1\\xgboost\\xgboost-ci-windows\\src\\objective\\regression_obj.cu:209: reg:linear is now deprecated in favor of reg:squarederror.\n",
      "  warnings.warn(smsg, UserWarning)\n",
      "\n"
     ]
    },
    {
     "name": "stdout",
     "output_type": "stream",
     "text": [
      "[0]\tvalidation-rmse:77.46205                                                   \n",
      "[1]\tvalidation-rmse:77.35534                                                   \n",
      "[2]\tvalidation-rmse:77.37089                                                   \n",
      "[3]\tvalidation-rmse:77.45321                                                   \n",
      "[4]\tvalidation-rmse:77.57668                                                   \n",
      "[5]\tvalidation-rmse:77.71965                                                   \n",
      "[6]\tvalidation-rmse:77.87245                                                   \n",
      "[7]\tvalidation-rmse:78.04014                                                   \n",
      "[8]\tvalidation-rmse:78.19389                                                   \n",
      "[9]\tvalidation-rmse:78.31299                                                   \n",
      "[10]\tvalidation-rmse:78.46329                                                  \n",
      "[0]\tvalidation-rmse:77.18247                                                   \n",
      "[1]\tvalidation-rmse:77.33951                                                   \n",
      " 30%|███       | 3/10 [00:27<00:59,  8.49s/trial, best loss: 77.20122573862926]"
     ]
    },
    {
     "name": "stderr",
     "output_type": "stream",
     "text": [
      "C:\\Users\\khadk\\AppData\\Roaming\\Python\\Python312\\site-packages\\xgboost\\core.py:160: UserWarning: [20:54:51] WARNING: C:\\buildkite-agent\\builds\\buildkite-windows-cpu-autoscaling-group-i-0b3782d1791676daf-1\\xgboost\\xgboost-ci-windows\\src\\objective\\regression_obj.cu:209: reg:linear is now deprecated in favor of reg:squarederror.\n",
      "  warnings.warn(smsg, UserWarning)\n",
      "\n"
     ]
    },
    {
     "name": "stdout",
     "output_type": "stream",
     "text": [
      "[2]\tvalidation-rmse:77.81103                                                   \n",
      "[3]\tvalidation-rmse:78.21947                                                   \n",
      "[4]\tvalidation-rmse:78.63331                                                   \n",
      "[5]\tvalidation-rmse:79.26630                                                   \n",
      "[6]\tvalidation-rmse:79.77019                                                   \n",
      "[7]\tvalidation-rmse:80.07311                                                   \n",
      "[8]\tvalidation-rmse:80.39624                                                   \n",
      "[9]\tvalidation-rmse:80.93571                                                   \n",
      " 40%|████      | 4/10 [00:28<00:33,  5.53s/trial, best loss: 77.20122573862926]"
     ]
    },
    {
     "name": "stderr",
     "output_type": "stream",
     "text": [
      "C:\\Users\\khadk\\AppData\\Roaming\\Python\\Python312\\site-packages\\xgboost\\core.py:160: UserWarning: [20:54:52] WARNING: C:\\buildkite-agent\\builds\\buildkite-windows-cpu-autoscaling-group-i-0b3782d1791676daf-1\\xgboost\\xgboost-ci-windows\\src\\objective\\regression_obj.cu:209: reg:linear is now deprecated in favor of reg:squarederror.\n",
      "  warnings.warn(smsg, UserWarning)\n",
      "\n"
     ]
    },
    {
     "name": "stdout",
     "output_type": "stream",
     "text": [
      "[0]\tvalidation-rmse:79.21958                                                   \n",
      "[1]\tvalidation-rmse:80.47312                                                   \n",
      "[2]\tvalidation-rmse:81.01331                                                   \n",
      "[3]\tvalidation-rmse:81.52034                                                   \n",
      "[4]\tvalidation-rmse:81.79177                                                   \n",
      "[5]\tvalidation-rmse:81.96933                                                   \n",
      "[6]\tvalidation-rmse:82.42826                                                   \n",
      "[7]\tvalidation-rmse:82.49253                                                   \n",
      "[8]\tvalidation-rmse:82.84157                                                   \n",
      "[9]\tvalidation-rmse:83.08713                                                   \n",
      "[0]\tvalidation-rmse:77.41769                                                   \n",
      "[1]\tvalidation-rmse:77.98388                                                   \n",
      " 50%|█████     | 5/10 [00:41<00:41,  8.34s/trial, best loss: 77.20122573862926]"
     ]
    },
    {
     "name": "stderr",
     "output_type": "stream",
     "text": [
      "C:\\Users\\khadk\\AppData\\Roaming\\Python\\Python312\\site-packages\\xgboost\\core.py:160: UserWarning: [20:55:06] WARNING: C:\\buildkite-agent\\builds\\buildkite-windows-cpu-autoscaling-group-i-0b3782d1791676daf-1\\xgboost\\xgboost-ci-windows\\src\\objective\\regression_obj.cu:209: reg:linear is now deprecated in favor of reg:squarederror.\n",
      "  warnings.warn(smsg, UserWarning)\n",
      "\n"
     ]
    },
    {
     "name": "stdout",
     "output_type": "stream",
     "text": [
      "[2]\tvalidation-rmse:79.07702                                                   \n",
      "[3]\tvalidation-rmse:79.61248                                                   \n",
      "[4]\tvalidation-rmse:80.30682                                                   \n",
      "[5]\tvalidation-rmse:80.72714                                                   \n",
      "[6]\tvalidation-rmse:80.89037                                                   \n",
      "[7]\tvalidation-rmse:81.52532                                                   \n",
      "[8]\tvalidation-rmse:82.03431                                                   \n",
      "[9]\tvalidation-rmse:82.35832                                                   \n",
      "[10]\tvalidation-rmse:82.53321                                                  \n",
      " 60%|██████    | 6/10 [00:42<00:23,  5.78s/trial, best loss: 77.20122573862926]"
     ]
    },
    {
     "name": "stderr",
     "output_type": "stream",
     "text": [
      "C:\\Users\\khadk\\AppData\\Roaming\\Python\\Python312\\site-packages\\xgboost\\core.py:160: UserWarning: [20:55:07] WARNING: C:\\buildkite-agent\\builds\\buildkite-windows-cpu-autoscaling-group-i-0b3782d1791676daf-1\\xgboost\\xgboost-ci-windows\\src\\objective\\regression_obj.cu:209: reg:linear is now deprecated in favor of reg:squarederror.\n",
      "  warnings.warn(smsg, UserWarning)\n",
      "\n"
     ]
    },
    {
     "name": "stdout",
     "output_type": "stream",
     "text": [
      "[0]\tvalidation-rmse:76.94789                                                   \n",
      "[1]\tvalidation-rmse:76.93463                                                   \n",
      "[2]\tvalidation-rmse:77.06397                                                   \n",
      "[3]\tvalidation-rmse:77.21172                                                   \n",
      "[4]\tvalidation-rmse:77.29655                                                   \n",
      "[5]\tvalidation-rmse:77.42953                                                   \n",
      "[6]\tvalidation-rmse:77.51463                                                   \n",
      "[7]\tvalidation-rmse:77.61833                                                   \n",
      "[8]\tvalidation-rmse:77.64196                                                   \n",
      "[9]\tvalidation-rmse:77.69939                                                   \n",
      "[10]\tvalidation-rmse:77.70224                                                  \n",
      "[11]\tvalidation-rmse:77.79458                                                  \n",
      " 70%|███████   | 7/10 [00:47<00:16,  5.59s/trial, best loss: 77.20122573862926]"
     ]
    },
    {
     "name": "stderr",
     "output_type": "stream",
     "text": [
      "C:\\Users\\khadk\\AppData\\Roaming\\Python\\Python312\\site-packages\\xgboost\\core.py:160: UserWarning: [20:55:12] WARNING: C:\\buildkite-agent\\builds\\buildkite-windows-cpu-autoscaling-group-i-0b3782d1791676daf-1\\xgboost\\xgboost-ci-windows\\src\\objective\\regression_obj.cu:209: reg:linear is now deprecated in favor of reg:squarederror.\n",
      "  warnings.warn(smsg, UserWarning)\n",
      "\n"
     ]
    },
    {
     "name": "stdout",
     "output_type": "stream",
     "text": [
      "[0]\tvalidation-rmse:79.43500                                                   \n",
      "[1]\tvalidation-rmse:83.44550                                                   \n",
      "[2]\tvalidation-rmse:86.34542                                                   \n",
      "[3]\tvalidation-rmse:88.08416                                                   \n",
      "[4]\tvalidation-rmse:88.94902                                                   \n",
      "[5]\tvalidation-rmse:89.28686                                                   \n",
      "[6]\tvalidation-rmse:89.48519                                                   \n",
      "[7]\tvalidation-rmse:89.52215                                                   \n",
      "[8]\tvalidation-rmse:89.52407                                                   \n",
      "[9]\tvalidation-rmse:89.52808                                                   \n",
      "[10]\tvalidation-rmse:89.53601                                                  \n",
      "[0]\tvalidation-rmse:76.96571                                                   \n",
      "[1]\tvalidation-rmse:76.74047                                                   \n",
      "[2]\tvalidation-rmse:76.68883                                                   \n",
      " 80%|████████  | 8/10 [01:16<00:25, 12.80s/trial, best loss: 77.20122573862926]"
     ]
    },
    {
     "name": "stderr",
     "output_type": "stream",
     "text": [
      "C:\\Users\\khadk\\AppData\\Roaming\\Python\\Python312\\site-packages\\xgboost\\core.py:160: UserWarning: [20:55:40] WARNING: C:\\buildkite-agent\\builds\\buildkite-windows-cpu-autoscaling-group-i-0b3782d1791676daf-1\\xgboost\\xgboost-ci-windows\\src\\objective\\regression_obj.cu:209: reg:linear is now deprecated in favor of reg:squarederror.\n",
      "  warnings.warn(smsg, UserWarning)\n",
      "\n"
     ]
    },
    {
     "name": "stdout",
     "output_type": "stream",
     "text": [
      "[3]\tvalidation-rmse:76.73436                                                   \n",
      "[4]\tvalidation-rmse:76.73696                                                   \n",
      "[5]\tvalidation-rmse:76.80795                                                   \n",
      "[6]\tvalidation-rmse:76.80164                                                   \n",
      "[7]\tvalidation-rmse:76.80454                                                   \n",
      "[8]\tvalidation-rmse:76.82888                                                   \n",
      "[9]\tvalidation-rmse:76.86967                                                   \n",
      "[10]\tvalidation-rmse:76.87453                                                  \n",
      "[11]\tvalidation-rmse:76.87931                                                  \n",
      "[12]\tvalidation-rmse:76.91081                                                  \n",
      " 90%|█████████ | 9/10 [01:16<00:09,  9.00s/trial, best loss: 76.91081144981564]"
     ]
    },
    {
     "name": "stderr",
     "output_type": "stream",
     "text": [
      "C:\\Users\\khadk\\AppData\\Roaming\\Python\\Python312\\site-packages\\xgboost\\core.py:160: UserWarning: [20:55:41] WARNING: C:\\buildkite-agent\\builds\\buildkite-windows-cpu-autoscaling-group-i-0b3782d1791676daf-1\\xgboost\\xgboost-ci-windows\\src\\objective\\regression_obj.cu:209: reg:linear is now deprecated in favor of reg:squarederror.\n",
      "  warnings.warn(smsg, UserWarning)\n",
      "\n"
     ]
    },
    {
     "name": "stdout",
     "output_type": "stream",
     "text": [
      "[0]\tvalidation-rmse:77.54354                                                   \n",
      "[1]\tvalidation-rmse:77.38953                                                   \n",
      "[2]\tvalidation-rmse:77.27541                                                   \n",
      "[3]\tvalidation-rmse:77.19323                                                   \n",
      "[4]\tvalidation-rmse:77.14364                                                   \n",
      "[5]\tvalidation-rmse:77.11293                                                   \n",
      "[6]\tvalidation-rmse:77.10248                                                   \n",
      "[7]\tvalidation-rmse:77.10125                                                   \n",
      "[8]\tvalidation-rmse:77.11460                                                   \n",
      "[9]\tvalidation-rmse:77.12200                                                   \n",
      "[10]\tvalidation-rmse:77.13335                                                  \n",
      "[11]\tvalidation-rmse:77.15886                                                  \n",
      "[12]\tvalidation-rmse:77.19080                                                  \n",
      "[13]\tvalidation-rmse:77.20652                                                  \n",
      "[14]\tvalidation-rmse:77.22871                                                  \n",
      "[15]\tvalidation-rmse:77.26185                                                  \n",
      "[16]\tvalidation-rmse:77.29702                                                  \n",
      "100%|██████████| 10/10 [01:40<00:00, 10.00s/trial, best loss: 76.91081144981564]\n"
     ]
    }
   ],
   "source": [
    "\n",
    "search_space = {\n",
    "    'max_depth': scope.int(hp.quniform('max_depth', 4, 100, 1)),\n",
    "    'learning_rate': hp.loguniform('learning_rate', -3, 0),\n",
    "    'reg_alpha': hp.loguniform('reg_alpha', -5, -1),\n",
    "    'reg_lambda': hp.loguniform('reg_lambda', -6, -1),\n",
    "    'min_child_weight': hp.loguniform('min_child_weight', -1, 3),\n",
    "    'objective': 'reg:linear',\n",
    "    'seed': 42\n",
    "}\n",
    "\n",
    "best_result = fmin(\n",
    "    fn=objective,\n",
    "    space=search_space,\n",
    "    algo=tpe.suggest,\n",
    "    max_evals=10,\n",
    "    trials=Trials()\n",
    ")"
   ]
  },
  {
   "cell_type": "code",
   "execution_count": 39,
   "metadata": {},
   "outputs": [
    {
     "name": "stderr",
     "output_type": "stream",
     "text": [
      "C:\\Users\\khadk\\AppData\\Roaming\\Python\\Python312\\site-packages\\xgboost\\core.py:160: UserWarning: [21:05:30] WARNING: C:\\buildkite-agent\\builds\\buildkite-windows-cpu-autoscaling-group-i-0b3782d1791676daf-1\\xgboost\\xgboost-ci-windows\\src\\objective\\regression_obj.cu:209: reg:linear is now deprecated in favor of reg:squarederror.\n",
      "  warnings.warn(smsg, UserWarning)\n"
     ]
    },
    {
     "name": "stdout",
     "output_type": "stream",
     "text": [
      "[0]\tvalidation-rmse:77.54354\n",
      "[1]\tvalidation-rmse:77.38953\n",
      "[2]\tvalidation-rmse:77.27541\n",
      "[3]\tvalidation-rmse:77.19323\n",
      "[4]\tvalidation-rmse:77.14364\n",
      "[5]\tvalidation-rmse:77.11293\n",
      "[6]\tvalidation-rmse:77.10248\n",
      "[7]\tvalidation-rmse:77.10125\n",
      "[8]\tvalidation-rmse:77.11460\n",
      "[9]\tvalidation-rmse:77.12200\n",
      "[10]\tvalidation-rmse:77.13335\n",
      "[11]\tvalidation-rmse:77.15886\n",
      "[12]\tvalidation-rmse:77.19080\n",
      "[13]\tvalidation-rmse:77.20652\n",
      "[14]\tvalidation-rmse:77.22871\n",
      "[15]\tvalidation-rmse:77.26185\n",
      "[16]\tvalidation-rmse:77.29702\n"
     ]
    },
    {
     "name": "stderr",
     "output_type": "stream",
     "text": [
      "C:\\Users\\khadk\\AppData\\Roaming\\Python\\Python312\\site-packages\\xgboost\\core.py:160: UserWarning: [21:05:53] WARNING: C:\\buildkite-agent\\builds\\buildkite-windows-cpu-autoscaling-group-i-0b3782d1791676daf-1\\xgboost\\xgboost-ci-windows\\src\\c_api\\c_api.cc:1240: Saving into deprecated binary model format, please consider using `json` or `ubj`. Model format will default to JSON in XGBoost 2.2 if not specified.\n",
      "  warnings.warn(smsg, UserWarning)\n",
      "2024/10/18 21:06:03 WARNING mlflow.models.model: Model logged without a signature and input example. Please set `input_example` parameter when logging the model to auto infer the model signature.\n"
     ]
    }
   ],
   "source": [
    "with mlflow.start_run():\n",
    "    train = xgb.DMatrix(X_train, label=y_train)\n",
    "    valid = xgb.DMatrix(X_val, label=y_val)\n",
    "\n",
    "\n",
    "    best_params={\n",
    "        'learning_rate': 0.09070900080602705,\n",
    "        'max_depth': 100,\n",
    "        'min_child_weight': 8.576508447956027,\n",
    "        'objective': 'reg:linear',\n",
    "        'reg_alpha': 0.024561332497982886,    \n",
    "        'reg_lambda':0.07009727399544963,\n",
    "        'seed': 42\n",
    "    }\n",
    "\n",
    "    mlflow.log_params(best_params)\n",
    "\n",
    "    booster = xgb.train(\n",
    "        params=best_params,\n",
    "        dtrain=train,\n",
    "        num_boost_round=1000,\n",
    "        evals=[(valid, 'validation')],\n",
    "        early_stopping_rounds=10\n",
    "    )\n",
    "\n",
    "    y_pred = booster.predict(valid)\n",
    "    rmse = mean_squared_error(y_val, y_pred, squared=False)\n",
    "    mlflow.log_metric(\"rmse\", rmse)\n",
    "\n",
    "    with open('Models/preprocessor.b', 'wb') as f_out:\n",
    "        pickle.dump(dv, f_out)\n",
    "    mlflow.log_artifact('Models/preprocessor.b', artifact_path='preprocessor')\n",
    "    mlflow.xgboost.log_model(booster, artifact_path='models_mlflow')\n"
   ]
  },
  {
   "cell_type": "code",
   "execution_count": 40,
   "metadata": {},
   "outputs": [
    {
     "name": "stderr",
     "output_type": "stream",
     "text": [
      "C:\\Users\\khadk\\AppData\\Roaming\\Python\\Python312\\site-packages\\xgboost\\core.py:160: UserWarning: [21:11:57] WARNING: C:\\buildkite-agent\\builds\\buildkite-windows-cpu-autoscaling-group-i-0b3782d1791676daf-1\\xgboost\\xgboost-ci-windows\\src\\objective\\regression_obj.cu:209: reg:linear is now deprecated in favor of reg:squarederror.\n",
      "  warnings.warn(smsg, UserWarning)\n"
     ]
    }
   ],
   "source": [
    "logged_model = 'runs:/bae3db8d3c47435eb53e9571686f03e5/models_mlflow'\n",
    "\n",
    "# Load model as a PyFuncModel.\n",
    "loaded_model = mlflow.pyfunc.load_model(logged_model)"
   ]
  },
  {
   "cell_type": "code",
   "execution_count": 41,
   "metadata": {},
   "outputs": [
    {
     "data": {
      "text/plain": [
       "mlflow.pyfunc.loaded_model:\n",
       "  artifact_path: models_mlflow\n",
       "  flavor: mlflow.xgboost\n",
       "  run_id: bae3db8d3c47435eb53e9571686f03e5"
      ]
     },
     "execution_count": 41,
     "metadata": {},
     "output_type": "execute_result"
    }
   ],
   "source": [
    "loaded_model"
   ]
  },
  {
   "cell_type": "code",
   "execution_count": 43,
   "metadata": {},
   "outputs": [
    {
     "name": "stderr",
     "output_type": "stream",
     "text": [
      "C:\\Users\\khadk\\AppData\\Roaming\\Python\\Python312\\site-packages\\xgboost\\core.py:160: UserWarning: [21:13:16] WARNING: C:\\buildkite-agent\\builds\\buildkite-windows-cpu-autoscaling-group-i-0b3782d1791676daf-1\\xgboost\\xgboost-ci-windows\\src\\objective\\regression_obj.cu:209: reg:linear is now deprecated in favor of reg:squarederror.\n",
      "  warnings.warn(smsg, UserWarning)\n"
     ]
    },
    {
     "data": {
      "text/plain": [
       "<xgboost.core.Booster at 0x24d30986f30>"
      ]
     },
     "execution_count": 43,
     "metadata": {},
     "output_type": "execute_result"
    }
   ],
   "source": [
    "xgboost_model=mlflow.xgboost.load_model(logged_model)\n",
    "xgboost_model"
   ]
  },
  {
   "cell_type": "code",
   "execution_count": 44,
   "metadata": {},
   "outputs": [],
   "source": [
    "#@ Prediction:\n",
    "y_pred=xgboost_model.predict(valid)"
   ]
  },
  {
   "cell_type": "code",
   "execution_count": 45,
   "metadata": {},
   "outputs": [
    {
     "data": {
      "text/plain": [
       "array([21.20176  , 27.899284 ,  9.062972 , 10.35958  , 20.690088 ,\n",
       "        6.5452857,  6.5452857, 10.35958  , 22.176706 , 31.00552  ],\n",
       "      dtype=float32)"
      ]
     },
     "execution_count": 45,
     "metadata": {},
     "output_type": "execute_result"
    }
   ],
   "source": [
    "y_pred[:10]"
   ]
  }
 ],
 "metadata": {
  "kernelspec": {
   "display_name": "Python 3",
   "language": "python",
   "name": "python3"
  },
  "language_info": {
   "codemirror_mode": {
    "name": "ipython",
    "version": 3
   },
   "file_extension": ".py",
   "mimetype": "text/x-python",
   "name": "python",
   "nbconvert_exporter": "python",
   "pygments_lexer": "ipython3",
   "version": "3.12.0"
  }
 },
 "nbformat": 4,
 "nbformat_minor": 2
}
