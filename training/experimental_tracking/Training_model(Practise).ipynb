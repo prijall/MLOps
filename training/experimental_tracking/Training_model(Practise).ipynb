{
 "cells": [
  {
   "cell_type": "code",
   "execution_count": 20,
   "metadata": {},
   "outputs": [],
   "source": [
    "import pandas as pd\n",
    "import pickle\n",
    "import seaborn as sns\n",
    "import matplotlib.pyplot as plt"
   ]
  },
  {
   "cell_type": "code",
   "execution_count": 21,
   "metadata": {},
   "outputs": [],
   "source": [
    "from sklearn.feature_extraction import DictVectorizer\n",
    "from sklearn.linear_model import LinearRegression\n",
    "from sklearn.metrics import mean_squared_error\n",
    "from sklearn.linear_model import Lasso"
   ]
  },
  {
   "cell_type": "code",
   "execution_count": 22,
   "metadata": {},
   "outputs": [
    {
     "data": {
      "text/plain": [
       "<Experiment: artifact_location='file:///c:/Users/khadk/Desktop/MLOps/training/experimental_tracking/mlruns/1', creation_time=1729173508282, experiment_id='1', last_update_time=1729173508282, lifecycle_stage='active', name='nyc-taxi-experiment', tags={}>"
      ]
     },
     "execution_count": 22,
     "metadata": {},
     "output_type": "execute_result"
    }
   ],
   "source": [
    "import mlflow\n",
    "\n",
    "mlflow.set_tracking_uri('sqlite:///mlflow.db')\n",
    "mlflow.set_experiment('nyc-taxi-experiment')"
   ]
  },
  {
   "cell_type": "code",
   "execution_count": 23,
   "metadata": {},
   "outputs": [],
   "source": [
    "#@ code reconstruction:\n",
    "def read_dataframe(filename):\n",
    "    df=pd.read_parquet(filename)\n",
    "\n",
    "    df['duration']=df.lpep_dropoff_datetime-df.lpep_pickup_datetime\n",
    "    df.duration=df.duration.apply(lambda td: td.total_seconds()/60)\n",
    "\n",
    "    df[((df.duration >= 1) & (df.duration <=60))]\n",
    "    categorical=['PULocationID', 'DOLocationID']\n",
    "\n",
    "    df[categorical]=df[categorical].astype(str)\n",
    "    \n",
    "    return df"
   ]
  },
  {
   "cell_type": "code",
   "execution_count": 24,
   "metadata": {},
   "outputs": [],
   "source": [
    "df_train=read_dataframe('C:/Users/khadk/Desktop/MLOps/Data_set/green_tripdata_2024-01.parquet')\n",
    "df_val=read_dataframe('C:/Users/khadk/Desktop/MLOps/Data_set/green_tripdata_2024-02.parquet')                  "
   ]
  },
  {
   "cell_type": "code",
   "execution_count": 25,
   "metadata": {},
   "outputs": [],
   "source": [
    "df_train['PO_DO']=df_train['PULocationID'] + '_' + df_train['DOLocationID']\n",
    "df_val['PO_DO']=df_val['PULocationID'] + '_' + df_val['DOLocationID']"
   ]
  },
  {
   "cell_type": "code",
   "execution_count": 26,
   "metadata": {},
   "outputs": [],
   "source": [
    "categorical=['PO_DO']#'PULocationID', 'DOLocationID']\n",
    "numerical=['trip_distance']\n",
    "\n",
    "dv=DictVectorizer()\n",
    "\n",
    "train_dicts=df_train[categorical + numerical].to_dict(orient='records')\n",
    "X_train=dv.fit_transform(train_dicts)\n",
    "\n",
    "val_dicts=df_val[categorical + numerical].to_dict(orient='records')\n",
    "X_val=dv.transform(val_dicts)"
   ]
  },
  {
   "cell_type": "code",
   "execution_count": 27,
   "metadata": {},
   "outputs": [],
   "source": [
    "target='duration'\n",
    "y_train=df_train[target].values\n",
    "y_val=df_val[target].values"
   ]
  },
  {
   "cell_type": "code",
   "execution_count": 28,
   "metadata": {},
   "outputs": [
    {
     "data": {
      "text/plain": [
       "78.80821659744552"
      ]
     },
     "execution_count": 28,
     "metadata": {},
     "output_type": "execute_result"
    }
   ],
   "source": [
    "lr=LinearRegression()\n",
    "lr.fit(X_train, y_train)\n",
    "\n",
    "y_pred=lr.predict(X_val)\n",
    "\n",
    "\n",
    "mean_squared_error(y_val, y_pred, squared=False)"
   ]
  },
  {
   "cell_type": "code",
   "execution_count": 29,
   "metadata": {},
   "outputs": [],
   "source": [
    "import os \n",
    "\n",
    "os.makedirs('Models', exist_ok=True)\n",
    "\n",
    "with open('Models/lin_reg.bin', 'wb') as f_out:\n",
    "    pickle.dump((dv, lr),f_out)"
   ]
  },
  {
   "cell_type": "code",
   "execution_count": 30,
   "metadata": {},
   "outputs": [],
   "source": [
    "with mlflow.start_run():\n",
    "    \n",
    "    mlflow.set_tag('developer', 'king')\n",
    "    mlflow.log_param('train-data-path', 'C:/Users/khadk/Desktop/MLOps/Data_set/green_tripdata_2024-01.parquet')\n",
    "    mlflow.log_param('valid-data-path', 'C:/Users/khadk/Desktop/MLOps/Data_set/green_tripdata_2024-02.parquet')\n",
    "    alpha=0.001 \n",
    "    mlflow.log_param('alpha', alpha)\n",
    "    lr=Lasso(alpha)\n",
    "    lr.fit(X_train, y_train)\n",
    "\n",
    "    y_pred=lr.predict(X_val)\n",
    "\n",
    "    from sklearn.metrics import mean_squared_error\n",
    "\n",
    "    rmse=mean_squared_error(y_val, y_pred, squared=False)\n",
    "    mlflow.log_metric('rmse', rmse)"
   ]
  }
 ],
 "metadata": {
  "kernelspec": {
   "display_name": "Python 3",
   "language": "python",
   "name": "python3"
  },
  "language_info": {
   "codemirror_mode": {
    "name": "ipython",
    "version": 3
   },
   "file_extension": ".py",
   "mimetype": "text/x-python",
   "name": "python",
   "nbconvert_exporter": "python",
   "pygments_lexer": "ipython3",
   "version": "3.12.0"
  }
 },
 "nbformat": 4,
 "nbformat_minor": 2
}
